{
  "nbformat": 4,
  "nbformat_minor": 0,
  "metadata": {
    "colab": {
      "provenance": [],
      "authorship_tag": "ABX9TyMRLJGmCPx8OS8SPhJXt2qS",
      "include_colab_link": true
    },
    "kernelspec": {
      "name": "python3",
      "display_name": "Python 3"
    },
    "language_info": {
      "name": "python"
    }
  },
  "cells": [
    {
      "cell_type": "markdown",
      "metadata": {
        "id": "view-in-github",
        "colab_type": "text"
      },
      "source": [
        "<a href=\"https://colab.research.google.com/github/Shiblu31/ML_Lab_R/blob/main/Linear_regression.ipynb\" target=\"_parent\"><img src=\"https://colab.research.google.com/assets/colab-badge.svg\" alt=\"Open In Colab\"/></a>"
      ]
    },
    {
      "cell_type": "code",
      "source": [
        "import pandas as pd\n",
        "import numpy as np\n",
        "import pandas as pd\n",
        "import matplotlib.pyplot as plt"
      ],
      "metadata": {
        "id": "Y37v9xyqvUO4"
      },
      "execution_count": 3,
      "outputs": []
    },
    {
      "cell_type": "code",
      "source": [
        "\n",
        "from google.colab import drive\n",
        "drive.mount('/content/drive')"
      ],
      "metadata": {
        "colab": {
          "base_uri": "https://localhost:8080/"
        },
        "id": "CHQ816Go1lF4",
        "outputId": "4503ce5d-c838-4e7d-a099-1d06458b2036"
      },
      "execution_count": 4,
      "outputs": [
        {
          "output_type": "stream",
          "name": "stdout",
          "text": [
            "Mounted at /content/drive\n"
          ]
        }
      ]
    },
    {
      "cell_type": "code",
      "source": [
        "df = pd.read_csv(\"/content/drive/MyDrive/DATASET/HousingData.csv\")"
      ],
      "metadata": {
        "id": "P0H7XtG52E-g"
      },
      "execution_count": 18,
      "outputs": []
    },
    {
      "cell_type": "code",
      "source": [
        "\n",
        "df_clean = df.dropna()\n",
        "\n",
        "# Step 3: Separate features and target\n",
        "X = df_clean.drop(columns=['MEDV'])  # Features\n",
        "y = df_clean['MEDV']                 # Target\n",
        "\n",
        "# Step 4: Normalize the features\n",
        "X = (X - X.mean()) / X.std()\n",
        "\n",
        "# Step 5: Add bias (intercept) term\n",
        "X = np.c_[np.ones(X.shape[0]), X]  # Add column of 1s\n",
        "\n",
        "# Step 6: Train-test split\n",
        "X_train, X_test, y_train, y_test = train_test_split(X, y.values, test_size=0.2, random_state=42)\n",
        "\n",
        "# Step 7: Linear Regression class\n",
        "class LinearRegressionScratch:\n",
        "    def __init__(self, learning_rate=0.01, n_epochs=1000):\n",
        "        self.learning_rate = learning_rate\n",
        "        self.n_epochs = n_epochs\n",
        "        self.weights = None\n",
        "\n",
        "    def fit(self, X, y):\n",
        "        n_samples, n_features = X.shape\n",
        "        self.weights = np.zeros(n_features)\n",
        "\n",
        "        for _ in range(self.n_epochs):\n",
        "            y_pred = X.dot(self.weights)\n",
        "            error = y_pred - y\n",
        "            gradient = (1 / n_samples) * X.T.dot(error)\n",
        "            self.weights -= self.learning_rate * gradient\n",
        "\n",
        "    def predict(self, X):\n",
        "        return X.dot(self.weights)\n",
        "\n",
        "# Step 8: Train the model\n",
        "model = LinearRegressionScratch(learning_rate=0.01, n_epochs=1000)\n",
        "model.fit(X_train, y_train)\n",
        "\n",
        "# Step 9: Predict on test set\n",
        "y_pred = model.predict(X_test)\n",
        "\n",
        "# Step 10: Evaluate the model\n",
        "mse = mean_squared_error(y_test, y_pred)\n",
        "mae = mean_absolute_error(y_test, y_pred)\n",
        "r2 = r2_score(y_test, y_pred)\n",
        "\n",
        "# Step 11: Print results\n",
        "print(\"✅ Evaluation Metrics:\")\n",
        "print(f\"📊 Mean Squared Error (MSE): {mse:.2f}\")\n",
        "print(f\"📊 Mean Absolute Error (MAE): {mae:.2f}\")\n",
        "print(f\"📈 R² Score (Accuracy): {r2:.3f}\")\n",
        "\n",
        "print(\"\\n📌 Sample Predictions:\")\n",
        "print(y_pred[:5])\n"
      ],
      "metadata": {
        "colab": {
          "base_uri": "https://localhost:8080/"
        },
        "id": "rjhULzaK5gwF",
        "outputId": "0f0ee9b2-a7bb-4066-c1b0-a8db8ce04553"
      },
      "execution_count": 19,
      "outputs": [
        {
          "output_type": "stream",
          "name": "stdout",
          "text": [
            "✅ Evaluation Metrics:\n",
            "📊 Mean Squared Error (MSE): 32.34\n",
            "📊 Mean Absolute Error (MAE): 3.33\n",
            "📈 R² Score (Accuracy): 0.617\n",
            "\n",
            "📌 Sample Predictions:\n",
            "[28.05771126 18.97490209 21.92464794 30.16808111 18.63466636]\n"
          ]
        }
      ]
    },
    {
      "cell_type": "code",
      "source": [],
      "metadata": {
        "id": "JUOYQMXS5lcL"
      },
      "execution_count": null,
      "outputs": []
    }
  ]
}