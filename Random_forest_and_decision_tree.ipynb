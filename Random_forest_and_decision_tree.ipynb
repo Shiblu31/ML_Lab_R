{
  "nbformat": 4,
  "nbformat_minor": 0,
  "metadata": {
    "colab": {
      "provenance": [],
      "authorship_tag": "ABX9TyMQVmbE+/MoShAndIQtfB/j",
      "include_colab_link": true
    },
    "kernelspec": {
      "name": "python3",
      "display_name": "Python 3"
    },
    "language_info": {
      "name": "python"
    }
  },
  "cells": [
    {
      "cell_type": "markdown",
      "metadata": {
        "id": "view-in-github",
        "colab_type": "text"
      },
      "source": [
        "<a href=\"https://colab.research.google.com/github/Shiblu31/ML_Lab_R/blob/main/Random_forest_and_decision_tree.ipynb\" target=\"_parent\"><img src=\"https://colab.research.google.com/assets/colab-badge.svg\" alt=\"Open In Colab\"/></a>"
      ]
    },
    {
      "cell_type": "code",
      "execution_count": 3,
      "metadata": {
        "colab": {
          "base_uri": "https://localhost:8080/"
        },
        "id": "TpcfOpQdaSMp",
        "outputId": "bd1280d5-1735-49a7-bada-80de6514b1e5"
      },
      "outputs": [
        {
          "output_type": "stream",
          "name": "stdout",
          "text": [
            "🌳 Decision Tree Results:\n",
            "✅ Accuracy: 0.944\n",
            "\n",
            "📋 Classification Report:\n",
            "               precision    recall  f1-score   support\n",
            "\n",
            "           1       1.00      0.92      0.96        12\n",
            "           2       0.88      1.00      0.93        14\n",
            "           3       1.00      0.90      0.95        10\n",
            "\n",
            "    accuracy                           0.94        36\n",
            "   macro avg       0.96      0.94      0.95        36\n",
            "weighted avg       0.95      0.94      0.94        36\n",
            "\n",
            "📊 Confusion Matrix:\n",
            " [[11  1  0]\n",
            " [ 0 14  0]\n",
            " [ 0  1  9]]\n",
            "\n",
            "--------------------------------------------------\n",
            "\n",
            "🌲 Random Forest Results:\n",
            "✅ Accuracy: 1.000\n",
            "\n",
            "📋 Classification Report:\n",
            "               precision    recall  f1-score   support\n",
            "\n",
            "           1       1.00      1.00      1.00        12\n",
            "           2       1.00      1.00      1.00        14\n",
            "           3       1.00      1.00      1.00        10\n",
            "\n",
            "    accuracy                           1.00        36\n",
            "   macro avg       1.00      1.00      1.00        36\n",
            "weighted avg       1.00      1.00      1.00        36\n",
            "\n",
            "📊 Confusion Matrix:\n",
            " [[12  0  0]\n",
            " [ 0 14  0]\n",
            " [ 0  0 10]]\n"
          ]
        }
      ],
      "source": [
        "import pandas as pd\n",
        "from sklearn.model_selection import train_test_split\n",
        "from sklearn.preprocessing import StandardScaler\n",
        "from sklearn.tree import DecisionTreeClassifier\n",
        "from sklearn.ensemble import RandomForestClassifier\n",
        "from sklearn.metrics import accuracy_score, classification_report, confusion_matrix\n",
        "\n",
        "# Step 1: Load the dataset\n",
        "df = pd.read_csv(\"/content/drive/MyDrive/DATASET/wine.csv\")\n",
        "\n",
        "# Step 2: Separate features and target\n",
        "X = df.drop(columns=['Wine'])  # Features\n",
        "y = df['Wine']                 # Target class\n",
        "\n",
        "# Step 3: Standardize the features (optional but helps with some models)\n",
        "scaler = StandardScaler()\n",
        "X_scaled = scaler.fit_transform(X)\n",
        "\n",
        "# Step 4: Train-test split\n",
        "X_train, X_test, y_train, y_test = train_test_split(\n",
        "    X_scaled, y, test_size=0.2, random_state=42, stratify=y\n",
        ")\n",
        "\n",
        "# ========== 🌳 DECISION TREE ==========\n",
        "dt_model = DecisionTreeClassifier(random_state=42)\n",
        "dt_model.fit(X_train, y_train)\n",
        "y_pred_dt = dt_model.predict(X_test)\n",
        "\n",
        "print(\"🌳 Decision Tree Results:\")\n",
        "print(f\"✅ Accuracy: {accuracy_score(y_test, y_pred_dt):.3f}\")\n",
        "print(\"\\n📋 Classification Report:\\n\", classification_report(y_test, y_pred_dt))\n",
        "print(\"📊 Confusion Matrix:\\n\", confusion_matrix(y_test, y_pred_dt))\n",
        "\n",
        "print(\"\\n\" + \"-\"*50 + \"\\n\")\n",
        "\n",
        "# ========== 🌲 RANDOM FOREST ==========\n",
        "rf_model = RandomForestClassifier(n_estimators=100, random_state=42)\n",
        "rf_model.fit(X_train, y_train)\n",
        "y_pred_rf = rf_model.predict(X_test)\n",
        "\n",
        "print(\"🌲 Random Forest Results:\")\n",
        "print(f\"✅ Accuracy: {accuracy_score(y_test, y_pred_rf):.3f}\")\n",
        "print(\"\\n📋 Classification Report:\\n\", classification_report(y_test, y_pred_rf))\n",
        "print(\"📊 Confusion Matrix:\\n\", confusion_matrix(y_test, y_pred_rf))\n"
      ]
    },
    {
      "cell_type": "code",
      "source": [
        "from google.colab import drive\n",
        "drive.mount('/content/drive')"
      ],
      "metadata": {
        "colab": {
          "base_uri": "https://localhost:8080/"
        },
        "id": "4krjKxQMaizJ",
        "outputId": "e1d57e5c-e998-49e2-9295-2b8ed0d85b29"
      },
      "execution_count": 1,
      "outputs": [
        {
          "output_type": "stream",
          "name": "stdout",
          "text": [
            "Mounted at /content/drive\n"
          ]
        }
      ]
    },
    {
      "cell_type": "code",
      "source": [],
      "metadata": {
        "id": "IxAnL48Tarl4"
      },
      "execution_count": null,
      "outputs": []
    }
  ]
}