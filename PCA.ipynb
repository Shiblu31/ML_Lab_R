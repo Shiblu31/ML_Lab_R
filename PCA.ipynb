{
  "nbformat": 4,
  "nbformat_minor": 0,
  "metadata": {
    "colab": {
      "provenance": [],
      "authorship_tag": "ABX9TyO87RJrZayRDdKCRAo/mQiS",
      "include_colab_link": true
    },
    "kernelspec": {
      "name": "python3",
      "display_name": "Python 3"
    },
    "language_info": {
      "name": "python"
    }
  },
  "cells": [
    {
      "cell_type": "markdown",
      "metadata": {
        "id": "view-in-github",
        "colab_type": "text"
      },
      "source": [
        "<a href=\"https://colab.research.google.com/github/Shiblu31/ML_Lab_R/blob/main/PCA.ipynb\" target=\"_parent\"><img src=\"https://colab.research.google.com/assets/colab-badge.svg\" alt=\"Open In Colab\"/></a>"
      ]
    },
    {
      "cell_type": "code",
      "execution_count": 3,
      "metadata": {
        "id": "8LUnLxX6p7gm",
        "colab": {
          "base_uri": "https://localhost:8080/"
        },
        "outputId": "34b42c58-5443-47d3-afb8-1e9953652b26"
      },
      "outputs": [
        {
          "output_type": "stream",
          "name": "stdout",
          "text": [
            "🤖 K-Nearest Neighbors (KNN) Results:\n",
            "✅ Accuracy: 0.972\n",
            "\n",
            "📋 Classification Report:\n",
            "               precision    recall  f1-score   support\n",
            "\n",
            "           1       1.00      1.00      1.00        12\n",
            "           2       1.00      0.93      0.96        14\n",
            "           3       0.91      1.00      0.95        10\n",
            "\n",
            "    accuracy                           0.97        36\n",
            "   macro avg       0.97      0.98      0.97        36\n",
            "weighted avg       0.97      0.97      0.97        36\n",
            "\n",
            "📊 Confusion Matrix:\n",
            " [[12  0  0]\n",
            " [ 0 13  1]\n",
            " [ 0  0 10]]\n"
          ]
        }
      ],
      "source": [
        "import pandas as pd\n",
        "from sklearn.model_selection import train_test_split\n",
        "from sklearn.preprocessing import StandardScaler\n",
        "from sklearn.neighbors import KNeighborsClassifier\n",
        "from sklearn.metrics import accuracy_score, classification_report, confusion_matrix\n",
        "\n",
        "# Step 1: Load dataset\n",
        "df = pd.read_csv(\"/content/drive/MyDrive/DATASET/wine.csv\")\n",
        "\n",
        "# Step 2: Separate features and target\n",
        "X = df.drop(columns=['Wine'])  # Features\n",
        "y = df['Wine']                 # Target class\n",
        "\n",
        "# Step 3: Standardize the features (KNN is distance-based, scaling is essential)\n",
        "scaler = StandardScaler()\n",
        "X_scaled = scaler.fit_transform(X)\n",
        "\n",
        "# Step 4: Train-test split\n",
        "X_train, X_test, y_train, y_test = train_test_split(\n",
        "    X_scaled, y, test_size=0.2, random_state=42, stratify=y\n",
        ")\n",
        "\n",
        "# Step 5: Initialize and train KNN model\n",
        "knn_model = KNeighborsClassifier(n_neighbors=5)  # You can tune this later\n",
        "knn_model.fit(X_train, y_train)\n",
        "\n",
        "# Step 6: Predict on test data\n",
        "y_pred_knn = knn_model.predict(X_test)\n",
        "\n",
        "# Step 7: Evaluate performance\n",
        "print(\"🤖 K-Nearest Neighbors (KNN) Results:\")\n",
        "print(f\"✅ Accuracy: {accuracy_score(y_test, y_pred_knn):.3f}\")\n",
        "print(\"\\n📋 Classification Report:\\n\", classification_report(y_test, y_pred_knn))\n",
        "print(\"📊 Confusion Matrix:\\n\", confusion_matrix(y_test, y_pred_knn))\n",
        "\n"
      ]
    },
    {
      "cell_type": "code",
      "source": [
        "from google.colab import drive\n",
        "drive.mount('/content/drive')"
      ],
      "metadata": {
        "id": "qRQqbad7tsLx",
        "colab": {
          "base_uri": "https://localhost:8080/"
        },
        "outputId": "823bed60-0a01-4d0f-b50e-1f64e1c761bb"
      },
      "execution_count": 1,
      "outputs": [
        {
          "output_type": "stream",
          "name": "stdout",
          "text": [
            "Mounted at /content/drive\n"
          ]
        }
      ]
    },
    {
      "cell_type": "code",
      "source": [],
      "metadata": {
        "id": "BwnP20I2vuwJ"
      },
      "execution_count": null,
      "outputs": []
    }
  ]
}