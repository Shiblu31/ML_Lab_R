{
  "nbformat": 4,
  "nbformat_minor": 0,
  "metadata": {
    "colab": {
      "provenance": [],
      "authorship_tag": "ABX9TyMrmj4k/6j68M/Wl/zCGkkC",
      "include_colab_link": true
    },
    "kernelspec": {
      "name": "python3",
      "display_name": "Python 3"
    },
    "language_info": {
      "name": "python"
    }
  },
  "cells": [
    {
      "cell_type": "markdown",
      "metadata": {
        "id": "view-in-github",
        "colab_type": "text"
      },
      "source": [
        "<a href=\"https://colab.research.google.com/github/Shiblu31/ML_Lab_R/blob/main/basic_operation.ipynb\" target=\"_parent\"><img src=\"https://colab.research.google.com/assets/colab-badge.svg\" alt=\"Open In Colab\"/></a>"
      ]
    },
    {
      "cell_type": "code",
      "execution_count": 1,
      "metadata": {
        "colab": {
          "base_uri": "https://localhost:8080/"
        },
        "id": "jqhGRglIOnEk",
        "outputId": "eb6c991a-7121-45ae-b90a-240cdce5efad"
      },
      "outputs": [
        {
          "output_type": "stream",
          "name": "stdout",
          "text": [
            "🔢 Basic Arithmetic Operations:\n",
            "Addition: 15 + 4 = 19\n",
            "Subtraction: 15 - 4 = 11\n",
            "Multiplication: 15 * 4 = 60\n",
            "Division: 15 / 4 = 3.75\n",
            "Integer Division: 15 // 4 = 3\n",
            "Modulus: 15 % 4 = 3\n",
            "Exponentiation: 15 ** 4 = 50625\n",
            "\n",
            "==================================================\n",
            "\n",
            "📊 NumPy Array Creation and Manipulation:\n",
            "1D Array: [1 2 3 4 5]\n",
            "2D Array:\n",
            "[[1 2 3]\n",
            " [4 5 6]]\n",
            "Shape of arr2: (2, 3)\n",
            "Size of arr2: 6\n",
            "\n",
            "Zero Array:\n",
            "[[0. 0. 0.]\n",
            " [0. 0. 0.]]\n",
            "\n",
            "Ones Array:\n",
            "[[1. 1.]\n",
            " [1. 1.]\n",
            " [1. 1.]]\n",
            "\n",
            "Random Array:\n",
            "[[0.80436186 0.94532855]\n",
            " [0.18814995 0.08634017]]\n",
            "\n",
            "Reshaped arr1 to 5x1:\n",
            "[[1]\n",
            " [2]\n",
            " [3]\n",
            " [4]\n",
            " [5]]\n",
            "\n",
            "Addition of arr1 + 10: [11 12 13 14 15]\n",
            "Multiplication of arr1 * 2: [ 2  4  6  8 10]\n",
            "Sum of arr1: 15\n",
            "Mean of arr1: 3.0\n",
            "Max of arr2: 6\n",
            "\n",
            "Transpose of arr2:\n",
            "[[1 4]\n",
            " [2 5]\n",
            " [3 6]]\n"
          ]
        }
      ],
      "source": [
        "import numpy as np\n",
        "\n",
        "# ==== Part 1: Basic Arithmetic Operations ====\n",
        "print(\"🔢 Basic Arithmetic Operations:\")\n",
        "a = 15\n",
        "b = 4\n",
        "\n",
        "print(f\"Addition: {a} + {b} = {a + b}\")\n",
        "print(f\"Subtraction: {a} - {b} = {a - b}\")\n",
        "print(f\"Multiplication: {a} * {b} = {a * b}\")\n",
        "print(f\"Division: {a} / {b} = {a / b}\")\n",
        "print(f\"Integer Division: {a} // {b} = {a // b}\")\n",
        "print(f\"Modulus: {a} % {b} = {a % b}\")\n",
        "print(f\"Exponentiation: {a} ** {b} = {a ** b}\")\n",
        "\n",
        "print(\"\\n\" + \"=\"*50 + \"\\n\")\n",
        "\n",
        "# ==== Part 2: NumPy Array Creation & Manipulation ====\n",
        "print(\"📊 NumPy Array Creation and Manipulation:\")\n",
        "\n",
        "# Create 1D array\n",
        "arr1 = np.array([1, 2, 3, 4, 5])\n",
        "print(f\"1D Array: {arr1}\")\n",
        "\n",
        "# Create 2D array\n",
        "arr2 = np.array([[1, 2, 3], [4, 5, 6]])\n",
        "print(f\"2D Array:\\n{arr2}\")\n",
        "\n",
        "# Shape and size\n",
        "print(f\"Shape of arr2: {arr2.shape}\")\n",
        "print(f\"Size of arr2: {arr2.size}\")\n",
        "\n",
        "# Array of zeros\n",
        "zeros = np.zeros((2, 3))\n",
        "print(f\"\\nZero Array:\\n{zeros}\")\n",
        "\n",
        "# Array of ones\n",
        "ones = np.ones((3, 2))\n",
        "print(f\"\\nOnes Array:\\n{ones}\")\n",
        "\n",
        "# Random array\n",
        "random_arr = np.random.rand(2, 2)\n",
        "print(f\"\\nRandom Array:\\n{random_arr}\")\n",
        "\n",
        "# Reshape array\n",
        "reshaped = arr1.reshape(5, 1)\n",
        "print(f\"\\nReshaped arr1 to 5x1:\\n{reshaped}\")\n",
        "\n",
        "# Basic operations on arrays\n",
        "print(f\"\\nAddition of arr1 + 10: {arr1 + 10}\")\n",
        "print(f\"Multiplication of arr1 * 2: {arr1 * 2}\")\n",
        "print(f\"Sum of arr1: {np.sum(arr1)}\")\n",
        "print(f\"Mean of arr1: {np.mean(arr1)}\")\n",
        "print(f\"Max of arr2: {np.max(arr2)}\")\n",
        "\n",
        "# Transpose\n",
        "print(f\"\\nTranspose of arr2:\\n{arr2.T}\")\n"
      ]
    },
    {
      "cell_type": "code",
      "source": [],
      "metadata": {
        "id": "LOMsZ4A2Ouhi"
      },
      "execution_count": null,
      "outputs": []
    }
  ]
}